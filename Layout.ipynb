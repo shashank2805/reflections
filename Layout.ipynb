{
 "cells": [
  {
   "cell_type": "code",
   "execution_count": 63,
   "metadata": {},
   "outputs": [
    {
     "name": "stdout",
     "output_type": "stream",
     "text": [
      "[1, 2, 3, 4]\n"
     ]
    }
   ],
   "source": [
    "# D_RSU = {}\n",
    "# key (i,j) represent the particular RSU and value covers the attribute associated to that RSU such as computing capacity,\n",
    "# capacity used, backend n/w bandwidth, no. of cars, traffic prob., \n",
    "for i in range(10):\n",
    "    for j in range(10):\n",
    "        capacity_total = 100 # total capacity\n",
    "        capacity_used = 30 # capacity used\n",
    "        network_total = 50 # network total b/w\n",
    "        network_allotted = 10 # network alloted\n",
    "        relative_traffic = 0.8 # relative traffic probability \n",
    "        event_probability = 0.7 # event happening probability \n",
    "        cars = [1,2,3,4] # cars inside RSU with associated car id \n",
    "        D_RSU[(i,j)]= (capacity_total, capacity_used, network_total, network_allotted, relative_traffic, event_probability, cars)\n",
    "\n",
    "# layout = open(\"layout.txt\",\"w\") # for saving to .csv file\n",
    "# layout.write(str(D))\n",
    "# layout.close()\n",
    "\n",
    "# print (D) # prints dictionary\n",
    "        \n",
    "x = D_RSU[(1,2)]\n",
    "print (x[6])"
   ]
  },
  {
   "cell_type": "code",
   "execution_count": 62,
   "metadata": {},
   "outputs": [
    {
     "name": "stdout",
     "output_type": "stream",
     "text": [
      "{0: [(27, 17), 5, 10], 1: [(46, 74), 5, 10], 2: [(33, 59), 5, 10], 3: [(52, 37), 5, 10], 4: [(32, 12), 5, 10]}\n"
     ]
    }
   ],
   "source": [
    "D_CARs = {}\n",
    "# key represents the car id and item.value list covers the car location i.e rsu id, capacity, no. of tasks, tasks offloaded, latency etc.\n",
    "# D = {12: [3,4,4], 13: [3,4]}\n",
    "from random import *\n",
    "\n",
    "for i in range(5):\n",
    "    m = randrange(0, 100, 1)\n",
    "    n = randrange(0, 100, 1)\n",
    "    car_capacity = 5 \n",
    "    # computing capacity inside car, assuming one task need one compute\n",
    "    car_location = car_next_location(m,n, prob = 3) \n",
    "    # where (i,j) is location from the D_RSU, i and j could be chosen randomly, this could be predicted location\n",
    "    no_of_tasks = no_of_tasks_prediction(car_location, event_probability, weather, day, time) \n",
    "    # predicted number of tasks based on location, event, weather, day, time etc.\n",
    "    no_of_tasks_offloaded = calculate_offload(car_location, current_state, no_of_tasks)\n",
    "    D_CARs[i] = [car_location, car_capacity, no_of_tasks]\n",
    "    \n",
    "print (D_CARs)"
   ]
  },
  {
   "cell_type": "code",
   "execution_count": 76,
   "metadata": {},
   "outputs": [
    {
     "name": "stdout",
     "output_type": "stream",
     "text": [
      "stay\n",
      "(1, 2)\n"
     ]
    }
   ],
   "source": [
    "# function for deciding cars next location to reflect the realistic scenario\n",
    "def car_next_location(*args, **kwargs):\n",
    "    from numpy.random import choice \n",
    "    direction = ['forward', 'backward', 'right', 'left', 'stay'] # 4 more directions can further be added\n",
    "    probabilities = [0.2, 0.05, 0.3, 0.15, 0.3] # change probabilities to reflect realistic scenario\n",
    "    temp = choice(direction, p=probabilities)\n",
    "    print(temp)\n",
    "    (m,n) = args\n",
    "    d = kwargs\n",
    "    if temp == 'forward':\n",
    "        return (m,n+1)\n",
    "    elif temp == 'backward':\n",
    "        return (m,n-1)\n",
    "    elif temp == 'right':\n",
    "        return (m+1,n)\n",
    "    elif temp == 'left':\n",
    "        return (m-1,n)\n",
    "    elif temp == 'stay':\n",
    "        return (m,n)\n",
    "\n",
    "print(car_next_location(1,2, prob = 3))"
   ]
  },
  {
   "cell_type": "code",
   "execution_count": null,
   "metadata": {
    "collapsed": true
   },
   "outputs": [],
   "source": [
    "# function to predict the number of tasks launched in the car\n",
    "\n",
    "def no_of_tasks_prediction(car_location, event_probability, weather, day, time):\n",
    "    #     generate number of apps installed in one car fig.2(d)\n",
    "    no_of_apps_installed = round(np.random.gamma(4, 25)) # majority values around 100, gamma distribution\n",
    "\n",
    "    from numpy.random import choice\n",
    "    list_of_apps_installed = []\n",
    "    app_type = [\"beautify\", \"communication\", \"education\", \"finance\", \"game\", \"image\", \"lifestyle\", \"mother_baby\", \n",
    "                    \"music\", \"news_reading\", \"productivity\", \"shopping\", \"social\", \"sports\", \"system_tools\", \"tool\", \n",
    "                    \"traffic\", \"travel\", \"video\", \"misc\"]\n",
    "    app_install_probability = [0.03799242955278284, 0.11397728865834854, 0.04780597224169354, 0.012617412028599468, \n",
    "                               0.10668722837515772, 0.0035048366746109633, 0.041637459694378244, 0.003084256273657648, \n",
    "                               0.0731809897658769, 0.038272816486751716, 0.024954437123230058, 0.054675452123931025, \n",
    "                               0.07191924856301696, 0.007009673349221927, 0.10234123089864013, 0.11495864292723958, \n",
    "                               0.002663675872704332, 0.049908874246460115, 0.09112575353988504, 0.0016823216038132623]\n",
    "    for _ in range(no_of_apps_installed):\n",
    "        list_of_apps_installed.append(choice(app_type, p=app_install_probability))\n",
    "#       probably this is for apps in all cars, for one car co-installed data is more logical\n",
    "        \n",
    "#     install that many number of apps in the car by generating choices from stats\n",
    "[\"beautify\", \"communication\", \"education\", \"finance\", \"game\", \"image\", \"lifestyle\", \"mother_baby\", \"music\", \"news_reading\", \n",
    " \"productivity\", \"shopping\", \"social\", \"sports\", \"system_tools\", \"tool\", \"traffic\", \"travel\", \"video\", \"misc\"]\n",
    "[2.71, 8.13, 3.41, 0.9, 7.61, 0.25, 2.97, 0.22, 5.22, 2.73, 1.78, 3.90, 5.13, 0.50, 7.30, 8.20, 0.19, 3.56, 6.50, 0.12]\n",
    "\n",
    "app_launch_probability = []\n",
    "#     car model has impact on the app selection see section 7.3, number of car models with prob see section 7.2\n",
    "#     apps that are lauched are selected as per the access time probability \n",
    "#     apps workload is proportional to network traffic and access time, which is also affected by car model\n",
    "    "
   ]
  },
  {
   "cell_type": "code",
   "execution_count": 106,
   "metadata": {},
   "outputs": [
    {
     "name": "stdout",
     "output_type": "stream",
     "text": [
      "[0.03799242955278284, 0.11397728865834854, 0.04780597224169354, 0.012617412028599468, 0.10668722837515772, 0.0035048366746109633, 0.041637459694378244, 0.003084256273657648, 0.0731809897658769, 0.038272816486751716, 0.024954437123230058, 0.054675452123931025, 0.07191924856301696, 0.007009673349221927, 0.10234123089864013, 0.11495864292723958, 0.002663675872704332, 0.049908874246460115, 0.09112575353988504, 0.0016823216038132623]\n",
      "1.1102230246251565e-16\n"
     ]
    }
   ],
   "source": [
    "list = [2.71, 8.13, 3.41, 0.9, 7.61, 0.25, 2.97, 0.22, 5.22, 2.73, 1.78, \n",
    "        3.90, 5.13, 0.50, 7.30, 8.20, 0.19, 3.56, 6.50, 0.12]\n",
    "sum = 0\n",
    "count = 0\n",
    "for item in list:\n",
    "    sum += item\n",
    "      \n",
    "\n",
    "newlist = []\n",
    "for item in list:\n",
    "    temp = item/sum\n",
    "    newlist.append(temp)\n",
    "    \n",
    "print(newlist)\n",
    "sum = 0\n",
    "count = 0\n",
    "for item in newlist:\n",
    "    sum += item\n",
    "    \n",
    "print(1-sum)"
   ]
  },
  {
   "cell_type": "code",
   "execution_count": 8,
   "metadata": {},
   "outputs": [
    {
     "name": "stdout",
     "output_type": "stream",
     "text": [
      "{0: ['game', 'system_tools', 'education', 'productivity', 'beautify', 'shopping', 'music', 'video', 'communication', 'social', 'game', 'video', 'tool', 'social', 'tool', 'shopping', 'video', 'beautify', 'system_tools', 'system_tools', 'travel', 'music', 'system_tools', 'productivity', 'communication', 'education', 'communication', 'video', 'music', 'tool', 'productivity', 'system_tools', 'video', 'video', 'education', 'communication', 'social', 'productivity', 'shopping', 'beautify', 'education', 'system_tools', 'music', 'music', 'tool', 'music', 'video', 'social', 'communication', 'music', 'image', 'tool', 'news_reading', 'tool', 'system_tools'], 1: ['productivity', 'social', 'music', 'communication', 'communication', 'social', 'social', 'social', 'communication', 'shopping', 'social', 'communication', 'system_tools', 'travel', 'video', 'system_tools', 'tool', 'communication', 'music', 'video', 'education', 'communication', 'sports', 'game', 'finance', 'system_tools', 'game', 'tool', 'sports', 'traffic', 'traffic', 'game', 'image', 'system_tools', 'education', 'communication', 'system_tools', 'tool', 'shopping', 'system_tools', 'game', 'social', 'communication', 'communication', 'system_tools', 'travel', 'shopping', 'video', 'game', 'system_tools', 'travel', 'shopping', 'tool', 'lifestyle', 'system_tools', 'lifestyle', 'social', 'communication', 'game', 'tool', 'tool', 'education', 'education', 'social', 'communication', 'shopping', 'tool', 'music', 'tool', 'beautify', 'travel', 'beautify', 'communication', 'productivity', 'video', 'communication', 'education', 'game'], 2: ['system_tools', 'system_tools', 'game', 'video', 'system_tools', 'news_reading', 'game', 'video', 'news_reading', 'shopping', 'communication', 'communication', 'beautify', 'sports', 'tool', 'finance', 'productivity', 'system_tools', 'beautify', 'tool', 'game', 'productivity', 'communication', 'game', 'tool', 'news_reading', 'education', 'video', 'music', 'social', 'tool', 'lifestyle', 'lifestyle', 'tool', 'finance', 'system_tools', 'shopping']}\n"
     ]
    }
   ],
   "source": [
    "# Dictinary of cars and apps installed in those cars\n",
    "import numpy as np\n",
    "D_Cars_apps = {}\n",
    "\n",
    "no_of_cars = 3\n",
    "\n",
    "for car in range(no_of_cars):\n",
    "    no_of_apps_installed = round(np.random.gamma(4, 25)) # majority values around 100, gamma distribution\n",
    "\n",
    "    from numpy.random import choice\n",
    "    list_of_apps_installed = []\n",
    "    app_type = [\"beautify\", \"communication\", \"education\", \"finance\", \"game\", \"image\", \"lifestyle\", \"mother_baby\", \n",
    "                    \"music\", \"news_reading\", \"productivity\", \"shopping\", \"social\", \"sports\", \"system_tools\", \"tool\", \n",
    "                    \"traffic\", \"travel\", \"video\", \"misc\"]\n",
    "    app_install_probability = [0.03799242955278284, 0.11397728865834854, 0.04780597224169354, 0.012617412028599468, \n",
    "                               0.10668722837515772, 0.0035048366746109633, 0.041637459694378244, 0.003084256273657648, \n",
    "                               0.0731809897658769, 0.038272816486751716, 0.024954437123230058, 0.054675452123931025, \n",
    "                               0.07191924856301696, 0.007009673349221927, 0.10234123089864013, 0.11495864292723958, \n",
    "                               0.002663675872704332, 0.049908874246460115, 0.09112575353988504, 0.0016823216038132623]\n",
    "    for _ in range(no_of_apps_installed):\n",
    "        list_of_apps_installed.append(choice(app_type, p=app_install_probability))\n",
    "        \n",
    "    D_Cars_apps[car] = list_of_apps_installed\n",
    "    \n",
    "print(D_Cars_apps)"
   ]
  },
  {
   "cell_type": "code",
   "execution_count": 9,
   "metadata": {},
   "outputs": [
    {
     "name": "stdout",
     "output_type": "stream",
     "text": [
      "(0, 1)\n",
      "hum 4 5\n",
      "(0, 2)\n",
      "tum 5 6\n",
      "dict_items([((0, 1), ['hum', 4, 5]), ((0, 2), ['tum', 5, 6])])\n"
     ]
    }
   ],
   "source": [
    "Dict = {}\n",
    "Dict[(0,1)]=['hum', 4, 5]\n",
    "Dict[(0,2)] = [\"tum\", 5,6]\n",
    "for name, args in Dict.items():\n",
    "    print(name)\n",
    "    print(*args)\n",
    "print(Dict.items())"
   ]
  },
  {
   "cell_type": "code",
   "execution_count": null,
   "metadata": {
    "collapsed": true
   },
   "outputs": [],
   "source": []
  }
 ],
 "metadata": {
  "kernelspec": {
   "display_name": "Python 3",
   "language": "python",
   "name": "python3"
  },
  "language_info": {
   "codemirror_mode": {
    "name": "ipython",
    "version": 3
   },
   "file_extension": ".py",
   "mimetype": "text/x-python",
   "name": "python",
   "nbconvert_exporter": "python",
   "pygments_lexer": "ipython3",
   "version": "3.6.3"
  }
 },
 "nbformat": 4,
 "nbformat_minor": 2
}
